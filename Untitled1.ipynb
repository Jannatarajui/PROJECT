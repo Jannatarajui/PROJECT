{
  "nbformat": 4,
  "nbformat_minor": 0,
  "metadata": {
    "colab": {
      "provenance": [],
      "authorship_tag": "ABX9TyMjPwgFpi/rFbphk3bdlLZE",
      "include_colab_link": true
    },
    "kernelspec": {
      "name": "python3",
      "display_name": "Python 3"
    },
    "language_info": {
      "name": "python"
    }
  },
  "cells": [
    {
      "cell_type": "markdown",
      "metadata": {
        "id": "view-in-github",
        "colab_type": "text"
      },
      "source": [
        "<a href=\"https://colab.research.google.com/github/Jannatarajui/PROJECT/blob/main/Untitled1.ipynb\" target=\"_parent\"><img src=\"https://colab.research.google.com/assets/colab-badge.svg\" alt=\"Open In Colab\"/></a>"
      ]
    },
    {
      "cell_type": "code",
      "execution_count": 1,
      "metadata": {
        "colab": {
          "base_uri": "https://localhost:8080/"
        },
        "id": "qOn85PD6OMZt",
        "outputId": "36516213-9ede-4e8f-fb6c-768f467c2cfd"
      },
      "outputs": [
        {
          "output_type": "stream",
          "name": "stdout",
          "text": [
            "jui\n"
          ]
        }
      ],
      "source": [
        "name = \"jui\"\n",
        "print(name)"
      ]
    },
    {
      "cell_type": "code",
      "source": [
        "a = 23\n",
        "b = 45\n",
        "print(a+b)"
      ],
      "metadata": {
        "colab": {
          "base_uri": "https://localhost:8080/"
        },
        "id": "8xGqHqXwgBXx",
        "outputId": "3b3d29b0-a752-49c1-ae03-4b0c745bfef6"
      },
      "execution_count": 2,
      "outputs": [
        {
          "output_type": "stream",
          "name": "stdout",
          "text": [
            "68\n"
          ]
        }
      ]
    },
    {
      "cell_type": "code",
      "source": [
        "name = input(\"enter your name:\")\n",
        "print(\"welcome\", name)"
      ],
      "metadata": {
        "colab": {
          "base_uri": "https://localhost:8080/"
        },
        "id": "dhb1ckJdld1V",
        "outputId": "0a9dd3ce-7aa3-4b05-ce98-9b6ad0df241c"
      },
      "execution_count": 4,
      "outputs": [
        {
          "output_type": "stream",
          "name": "stdout",
          "text": [
            "enter your name:jui\n",
            "welcome jui\n"
          ]
        }
      ]
    },
    {
      "cell_type": "code",
      "source": [
        "first = int(input(\"enter 1st number: \"))\n",
        "second = int(input(\" enter second number: \"))\n",
        "print( first + second)"
      ],
      "metadata": {
        "colab": {
          "base_uri": "https://localhost:8080/"
        },
        "id": "Jo--PCpimiqD",
        "outputId": "ade2b3d3-9cca-4d61-ed86-80e82b5498b4"
      },
      "execution_count": 7,
      "outputs": [
        {
          "output_type": "stream",
          "name": "stdout",
          "text": [
            "enter 1st number: 5\n",
            " enter second number: 6\n",
            "11\n"
          ]
        }
      ]
    },
    {
      "cell_type": "code",
      "source": [
        "a = int(input(\" enter area length :\"))\n",
        "print( a*a)"
      ],
      "metadata": {
        "colab": {
          "base_uri": "https://localhost:8080/"
        },
        "id": "RWa8ol2hnnBA",
        "outputId": "4609b7b9-67ce-4104-cddd-17fc5d536ed3"
      },
      "execution_count": 10,
      "outputs": [
        {
          "output_type": "stream",
          "name": "stdout",
          "text": [
            " enter area length :7\n",
            "49\n"
          ]
        }
      ]
    },
    {
      "cell_type": "code",
      "source": [
        "a = int(input(\"enter input 1 :\"))\n",
        "b = int(input(\"enter input 2: \"))\n",
        "print(a >= b)"
      ],
      "metadata": {
        "colab": {
          "base_uri": "https://localhost:8080/"
        },
        "id": "k5e_OomjoLPH",
        "outputId": "68759ee5-3139-4d13-d6be-fb87f4239f3c"
      },
      "execution_count": 11,
      "outputs": [
        {
          "output_type": "stream",
          "name": "stdout",
          "text": [
            "enter input 1 :5\n",
            "enter input 2: 7\n",
            "False\n"
          ]
        }
      ]
    }
  ]
}