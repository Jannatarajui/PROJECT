{
  "nbformat": 4,
  "nbformat_minor": 0,
  "metadata": {
    "colab": {
      "provenance": [],
      "authorship_tag": "ABX9TyOEufS9f1flDKdGoXS2Nv/j",
      "include_colab_link": true
    },
    "kernelspec": {
      "name": "python3",
      "display_name": "Python 3"
    },
    "language_info": {
      "name": "python"
    }
  },
  "cells": [
    {
      "cell_type": "markdown",
      "metadata": {
        "id": "view-in-github",
        "colab_type": "text"
      },
      "source": [
        "<a href=\"https://colab.research.google.com/github/Jannatarajui/PROJECT/blob/main/Untitled6.ipynb\" target=\"_parent\"><img src=\"https://colab.research.google.com/assets/colab-badge.svg\" alt=\"Open In Colab\"/></a>"
      ]
    },
    {
      "cell_type": "code",
      "execution_count": 3,
      "metadata": {
        "colab": {
          "base_uri": "https://localhost:8080/"
        },
        "id": "Qk2T6sn6JZxt",
        "outputId": "ff0d4eec-0687-45ce-98d6-67e1ea3b35af"
      },
      "outputs": [
        {
          "output_type": "stream",
          "name": "stdout",
          "text": [
            "{'name': 'jannat', 'roll': 24}\n",
            "jannat\n"
          ]
        }
      ],
      "source": [
        "dict = {\n",
        "    \"name\" : \"jannat\",\n",
        "      \"roll\"  : 24,\n",
        "\n",
        "}\n",
        "print(dict)\n",
        "print(dict[\"name\"])"
      ]
    },
    {
      "cell_type": "code",
      "source": [
        "students = {\n",
        "    \"name\" : \"jannat\",\n",
        "    \"subjects\" : {\n",
        "        \"math\" : 97,\n",
        "        \"english\" : 67,\n",
        "\n",
        "    }\n",
        "}\n",
        "print(students)\n",
        "print(students[\"subjects\"])\n",
        "print(len(list(students.keys())))"
      ],
      "metadata": {
        "colab": {
          "base_uri": "https://localhost:8080/"
        },
        "id": "LLtmZLDGM51z",
        "outputId": "9e1fb166-6b48-43a2-8dff-851f2be74189"
      },
      "execution_count": 11,
      "outputs": [
        {
          "output_type": "stream",
          "name": "stdout",
          "text": [
            "{'name': 'jannat', 'subjects': {'math': 97, 'english': 67}}\n",
            "{'math': 97, 'english': 67}\n",
            "2\n"
          ]
        }
      ]
    }
  ]
}