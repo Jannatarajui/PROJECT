{
  "nbformat": 4,
  "nbformat_minor": 0,
  "metadata": {
    "colab": {
      "provenance": [],
      "authorship_tag": "ABX9TyPmvLtr9ex9RaYMTlz6QhhU",
      "include_colab_link": true
    },
    "kernelspec": {
      "name": "python3",
      "display_name": "Python 3"
    },
    "language_info": {
      "name": "python"
    }
  },
  "cells": [
    {
      "cell_type": "markdown",
      "metadata": {
        "id": "view-in-github",
        "colab_type": "text"
      },
      "source": [
        "<a href=\"https://colab.research.google.com/github/Jannatarajui/PROJECT/blob/main/Untitled6.ipynb\" target=\"_parent\"><img src=\"https://colab.research.google.com/assets/colab-badge.svg\" alt=\"Open In Colab\"/></a>"
      ]
    },
    {
      "cell_type": "code",
      "execution_count": 3,
      "metadata": {
        "colab": {
          "base_uri": "https://localhost:8080/"
        },
        "id": "Qk2T6sn6JZxt",
        "outputId": "ff0d4eec-0687-45ce-98d6-67e1ea3b35af"
      },
      "outputs": [
        {
          "output_type": "stream",
          "name": "stdout",
          "text": [
            "{'name': 'jannat', 'roll': 24}\n",
            "jannat\n"
          ]
        }
      ],
      "source": [
        "dict = {\n",
        "    \"name\" : \"jannat\",\n",
        "      \"roll\"  : 24,\n",
        "\n",
        "}\n",
        "print(dict)\n",
        "print(dict[\"name\"])"
      ]
    },
    {
      "cell_type": "code",
      "source": [
        "students = {\n",
        "    \"name\" : \"jannat\",\n",
        "    \"subjects\" : {\n",
        "        \"math\" : 97,\n",
        "        \"english\" : 67,\n",
        "\n",
        "    }\n",
        "}\n",
        "print(students)\n",
        "print(students[\"subjects\"])\n",
        "print(len(list(students.keys())))\n",
        "print(students.get(\"name2\"))\n",
        "new_dict = {\n",
        "    \"city\" : \"Dhaka\",\n",
        "    \"time\" : 10,\n",
        "}\n",
        "students.update(new_dict)\n",
        "print(students)"
      ],
      "metadata": {
        "colab": {
          "base_uri": "https://localhost:8080/"
        },
        "id": "LLtmZLDGM51z",
        "outputId": "a7a7011d-86ef-490b-c03f-5867ca1c046a"
      },
      "execution_count": 15,
      "outputs": [
        {
          "output_type": "stream",
          "name": "stdout",
          "text": [
            "{'name': 'jannat', 'subjects': {'math': 97, 'english': 67}}\n",
            "{'math': 97, 'english': 67}\n",
            "2\n",
            "None\n",
            "{'name': 'jannat', 'subjects': {'math': 97, 'english': 67}, 'city': 'Dhaka', 'time': 10}\n"
          ]
        }
      ]
    },
    {
      "cell_type": "code",
      "source": [
        "collections = {1, 2 ,3 , \"jannat\"\n",
        "}\n",
        "print(collections)\n",
        "print(type(collections))\n",
        "collections.pop()\n",
        "print(collections)\n",
        "\n",
        "collections.add(\"jannatul\")\n",
        "print(collections)"
      ],
      "metadata": {
        "colab": {
          "base_uri": "https://localhost:8080/"
        },
        "id": "VQf175OTUB0k",
        "outputId": "166df9d3-462c-4097-c1f4-3c7e20d18625"
      },
      "execution_count": 24,
      "outputs": [
        {
          "output_type": "stream",
          "name": "stdout",
          "text": [
            "{1, 2, 3, 'jannat'}\n",
            "<class 'set'>\n",
            "{2, 3, 'jannat'}\n",
            "{2, 3, 'jannatul', 'jannat'}\n"
          ]
        }
      ]
    },
    {
      "cell_type": "code",
      "source": [
        "num1 = {1, 2, 3, 4 , 5}\n",
        "num2 = { 4, 5 ,6 ,7 ,7}\n",
        "print(num1.intersection(num2))"
      ],
      "metadata": {
        "colab": {
          "base_uri": "https://localhost:8080/"
        },
        "id": "PorYy89WVuAo",
        "outputId": "201d1327-f8a0-492c-b786-52b4c6e5387d"
      },
      "execution_count": 26,
      "outputs": [
        {
          "output_type": "stream",
          "name": "stdout",
          "text": [
            "{4, 5}\n"
          ]
        }
      ]
    },
    {
      "cell_type": "code",
      "source": [
        "meaning = {\n",
        "    \"cat\" : \"a small animal\",\n",
        "    \"table\" : [ \" a pice of furniture\" , \"lists of facts and figures\"]\n",
        "}\n",
        "print(meaning)"
      ],
      "metadata": {
        "colab": {
          "base_uri": "https://localhost:8080/"
        },
        "id": "okIU8PeTWrgh",
        "outputId": "e1c406b5-bfab-4e9e-f658-654c5d54e1f3"
      },
      "execution_count": 29,
      "outputs": [
        {
          "output_type": "stream",
          "name": "stdout",
          "text": [
            "{'cat': 'a small animal', 'table': [' a pice of furniture', 'lists of facts and figures']}\n"
          ]
        }
      ]
    },
    {
      "cell_type": "code",
      "source": [
        "subjects = {\n",
        "   \" python\", \"java\", \"javascript\", \"c++\" , \"c\",\n",
        "}\n",
        "print(len(subjects))"
      ],
      "metadata": {
        "colab": {
          "base_uri": "https://localhost:8080/"
        },
        "id": "17zyrDMEXwqA",
        "outputId": "f220a498-b9df-4050-d97c-64fd2d7548dc"
      },
      "execution_count": 31,
      "outputs": [
        {
          "output_type": "stream",
          "name": "stdout",
          "text": [
            "5\n"
          ]
        }
      ]
    },
    {
      "cell_type": "code",
      "source": [
        "marks = {}\n",
        "x = int(input(\"enter phy marks:\"))\n",
        "marks.update({\"phy\": x})\n",
        "y = int(input(\"enter chem marks : \"))\n",
        "marks.update({\"chem \" : y})\n",
        "z = int(input(\"enter math marks:\"))\n",
        "marks.update({\"math\" : z})\n",
        "print(marks)"
      ],
      "metadata": {
        "colab": {
          "base_uri": "https://localhost:8080/"
        },
        "id": "7tHusVcLYhSe",
        "outputId": "60f194c3-44fe-49b2-dbb2-9b170429033f"
      },
      "execution_count": 32,
      "outputs": [
        {
          "output_type": "stream",
          "name": "stdout",
          "text": [
            "enter phy marks:89\n",
            "enter chem marks : 90\n",
            "enter math marks:79\n",
            "{'phy': 89, 'chem ': 90, 'math': 79}\n"
          ]
        }
      ]
    }
  ]
}