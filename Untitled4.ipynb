{
  "nbformat": 4,
  "nbformat_minor": 0,
  "metadata": {
    "colab": {
      "provenance": [],
      "authorship_tag": "ABX9TyPBpwRSvmZvQdiDLuDSYJqH",
      "include_colab_link": true
    },
    "kernelspec": {
      "name": "python3",
      "display_name": "Python 3"
    },
    "language_info": {
      "name": "python"
    }
  },
  "cells": [
    {
      "cell_type": "markdown",
      "metadata": {
        "id": "view-in-github",
        "colab_type": "text"
      },
      "source": [
        "<a href=\"https://colab.research.google.com/github/Jannatarajui/PROJECT/blob/main/Untitled4.ipynb\" target=\"_parent\"><img src=\"https://colab.research.google.com/assets/colab-badge.svg\" alt=\"Open In Colab\"/></a>"
      ]
    },
    {
      "cell_type": "code",
      "execution_count": 1,
      "metadata": {
        "colab": {
          "base_uri": "https://localhost:8080/"
        },
        "id": "Dg079TMILTT2",
        "outputId": "48ea32d3-3537-4b34-e892-0397db71b8d0"
      },
      "outputs": [
        {
          "output_type": "stream",
          "name": "stdout",
          "text": [
            "what is your name:jannat\n",
            "jannat\n",
            "length is : None\n"
          ]
        }
      ],
      "source": [
        "length = print(input(\"what is your name:\"))\n",
        "print(\"length is :\", length)"
      ]
    },
    {
      "cell_type": "code",
      "source": [
        "name = input(\"what is your name: \")\n",
        "print(\"the length of your name is: \", len(name))"
      ],
      "metadata": {
        "colab": {
          "base_uri": "https://localhost:8080/"
        },
        "id": "z_yXB_jqMOjB",
        "outputId": "ebd64fa6-bd07-4bd8-e5f3-62c31c2fe355"
      },
      "execution_count": 2,
      "outputs": [
        {
          "output_type": "stream",
          "name": "stdout",
          "text": [
            "what is your name: jui\n",
            "the length of your name is:  3\n"
          ]
        }
      ]
    },
    {
      "cell_type": "code",
      "source": [
        "str = \"hi, i love $ and i want 100 $$$$$$ from you\"\n",
        "str.count(\"$\")"
      ],
      "metadata": {
        "colab": {
          "base_uri": "https://localhost:8080/"
        },
        "id": "cq31M-KZMpCT",
        "outputId": "ae744096-2638-4412-f0ba-0520a894d645"
      },
      "execution_count": 4,
      "outputs": [
        {
          "output_type": "execute_result",
          "data": {
            "text/plain": [
              "7"
            ]
          },
          "metadata": {},
          "execution_count": 4
        }
      ]
    },
    {
      "cell_type": "code",
      "source": [
        "light = \"green\"\n",
        "if( light == \"red\"):\n",
        "     print(\"stop\")\n",
        "elif( light == \"green\"):\n",
        "     print(\"go\")\n",
        "else:\n",
        "    print(\"wait\")"
      ],
      "metadata": {
        "colab": {
          "base_uri": "https://localhost:8080/"
        },
        "id": "pF7ht91BOHYe",
        "outputId": "41dbc17f-70d1-4948-981a-21c373804704"
      },
      "execution_count": 5,
      "outputs": [
        {
          "output_type": "stream",
          "name": "stdout",
          "text": [
            "go\n"
          ]
        }
      ]
    },
    {
      "cell_type": "code",
      "source": [
        "num = int(input(\"enter the number:\"))\n",
        "rem = num % 2\n",
        "if( rem == 0):\n",
        "   print(\"EVEN\")\n",
        "else:\n",
        "  print(\"ODD\")"
      ],
      "metadata": {
        "colab": {
          "base_uri": "https://localhost:8080/"
        },
        "id": "ifqot9hOR9K0",
        "outputId": "e492517b-037f-46f1-abc2-02cde54d4cc9"
      },
      "execution_count": 13,
      "outputs": [
        {
          "output_type": "stream",
          "name": "stdout",
          "text": [
            "enter the number:67\n",
            "ODD\n"
          ]
        }
      ]
    },
    {
      "cell_type": "code",
      "source": [
        "num1 = int(input(\"enter number 1 :\"))\n",
        "num2 = int(input(\"enter number 2 :\"))\n",
        "num3 = int(input(\"enter number 3 :\"))\n",
        "if( num1 > num2 and num1 > num3):\n",
        "     print(\"the gratest number is :\", num1)\n",
        "elif( num2 > num3):\n",
        "     print(\"the gratest number is : \", num2)\n",
        "else:\n",
        "     print(\"the gratest number is : \", num3)"
      ],
      "metadata": {
        "colab": {
          "base_uri": "https://localhost:8080/"
        },
        "id": "Egwvfa-8Tn5z",
        "outputId": "97d442ad-e0a0-4ecd-dff7-097136267190"
      },
      "execution_count": 15,
      "outputs": [
        {
          "output_type": "stream",
          "name": "stdout",
          "text": [
            "enter number 1 :66\n",
            "enter number 2 :5\n",
            "enter number 3 :2\n",
            "the gratest number is : 66\n"
          ]
        }
      ]
    },
    {
      "cell_type": "code",
      "source": [
        "num = int(input(\"enter the number: \"))\n",
        "res = num % 7\n",
        "if( res == 0):\n",
        "  print(\"the number is multiplie of 7\", res)\n",
        "else:\n",
        "  print(\"the number is not the multiplie of 7\", res)"
      ],
      "metadata": {
        "colab": {
          "base_uri": "https://localhost:8080/"
        },
        "id": "j3k4NncsU-86",
        "outputId": "e9d20df4-2fd9-462c-a921-1129e207a06e"
      },
      "execution_count": 17,
      "outputs": [
        {
          "output_type": "stream",
          "name": "stdout",
          "text": [
            "enter the number: 70\n",
            "the number is multiplie of 7 0\n"
          ]
        }
      ]
    }
  ]
}