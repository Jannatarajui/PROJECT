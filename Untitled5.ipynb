{
  "nbformat": 4,
  "nbformat_minor": 0,
  "metadata": {
    "colab": {
      "provenance": [],
      "authorship_tag": "ABX9TyNbJmw+qS8EiK4QQYQVp+MZ",
      "include_colab_link": true
    },
    "kernelspec": {
      "name": "python3",
      "display_name": "Python 3"
    },
    "language_info": {
      "name": "python"
    }
  },
  "cells": [
    {
      "cell_type": "markdown",
      "metadata": {
        "id": "view-in-github",
        "colab_type": "text"
      },
      "source": [
        "<a href=\"https://colab.research.google.com/github/Jannatarajui/PROJECT/blob/main/Untitled5.ipynb\" target=\"_parent\"><img src=\"https://colab.research.google.com/assets/colab-badge.svg\" alt=\"Open In Colab\"/></a>"
      ]
    },
    {
      "cell_type": "code",
      "execution_count": 1,
      "metadata": {
        "colab": {
          "base_uri": "https://localhost:8080/"
        },
        "id": "scMOZAwxzh2R",
        "outputId": "eaac935d-d040-4366-de04-2bf12ff75de1"
      },
      "outputs": [
        {
          "output_type": "stream",
          "name": "stdout",
          "text": [
            "[23.5, 55.6, 67, 90]\n",
            "4\n",
            "67\n",
            "[23.5, 'jannat', 67, 90]\n",
            "['jannat', 'fayyad']\n",
            "['fayyad', 'golu']\n",
            "['jannat', 'fayyad', 'golu', 'jesmine', 'ami', 'amijui']\n"
          ]
        }
      ],
      "source": [
        "marks = [23.5, 55.6, 67, 90]\n",
        "print(marks)\n",
        "print(len(marks))\n",
        "print(marks[2])\n",
        "marks[1] = \"jannat\"\n",
        "print(marks)\n",
        "name = [\"jannat\", \"fayyad\", \"golu\", \"jesmine\", \"ami\"]\n",
        "print(name[0:2])\n",
        "print(name[-4:-2])\n",
        "name.append(\"amijui\")\n",
        "print(name)"
      ]
    },
    {
      "cell_type": "code",
      "source": [
        "first = input(\"enter the 1st movie name:\")\n",
        "sceond = input(\"enter the 2nd movie name:\")\n",
        "third = input(\"enter the 3rd movie name;\")\n",
        "LIST = [first, sceond, third]\n",
        "print(\"all the movie name is :\", LIST)\n"
      ],
      "metadata": {
        "colab": {
          "base_uri": "https://localhost:8080/"
        },
        "id": "MZMyl5Uu1Qfw",
        "outputId": "a13ac69f-63ea-424d-bd9b-6679f64cc1d1"
      },
      "execution_count": 2,
      "outputs": [
        {
          "output_type": "stream",
          "name": "stdout",
          "text": [
            "enter the 1st movie name:titanic\n",
            "enter the 2nd movie name:jab we met\n",
            "enter the 3rd movie name;three idiots\n",
            "all the movie name is : ['titanic', 'jab we met', 'three idiots']\n"
          ]
        }
      ]
    },
    {
      "cell_type": "code",
      "source": [
        "numbers = (\"A\", \"B\", \"D\", \"D\", \"D\", \"E\", \"A\", \"A\", \"F\")\n",
        "print(numbers)\n",
        "print(type(numbers))\n",
        "print(numbers.count(\"D\"))"
      ],
      "metadata": {
        "colab": {
          "base_uri": "https://localhost:8080/"
        },
        "id": "T_GEiw-G3I6x",
        "outputId": "9b625751-2f2b-4f2c-fc99-de405df574e2"
      },
      "execution_count": 4,
      "outputs": [
        {
          "output_type": "stream",
          "name": "stdout",
          "text": [
            "('A', 'B', 'D', 'D', 'D', 'E', 'A', 'A', 'F')\n",
            "<class 'tuple'>\n",
            "3\n"
          ]
        }
      ]
    }
  ]
}